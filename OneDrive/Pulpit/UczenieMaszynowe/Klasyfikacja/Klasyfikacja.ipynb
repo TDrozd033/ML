{
 "cells": [
  {
   "cell_type": "markdown",
   "id": "935b11be",
   "metadata": {},
   "source": [
    "## Uczenie nadzorowane - klasyfikacja\n",
    "\n",
    "\n",
    "Uczenie nadzorowane — klasyfikacja polega na trenowaniu modelu na danych wejściowych z przypisanymi etykietami, aby nauczył się rozpoznawać, do której klasy należy nowy, nieznany przykład. Model uczy się reguł, które pozwalają przypisać odpowiednią kategorię do nowych danych."
   ]
  },
  {
   "cell_type": "markdown",
   "id": "c06f43af",
   "metadata": {},
   "source": [
    "####  Wczytaj zbiór danych\n",
    "####  Podziel zbiór danych na zbiór treningowy i testowy, dodatkowo w zmiennej X zapisz macierz zmiennych niezależnych, w zmiennej Y zapisz wektor zawierający informacje o tym jaki jest to typ wina (1, 2, 3)."
   ]
  },
  {
   "cell_type": "code",
   "execution_count": 18,
   "id": "47c9160a",
   "metadata": {},
   "outputs": [
    {
     "data": {
      "text/html": [
       "<div>\n",
       "<style scoped>\n",
       "    .dataframe tbody tr th:only-of-type {\n",
       "        vertical-align: middle;\n",
       "    }\n",
       "\n",
       "    .dataframe tbody tr th {\n",
       "        vertical-align: top;\n",
       "    }\n",
       "\n",
       "    .dataframe thead th {\n",
       "        text-align: right;\n",
       "    }\n",
       "</style>\n",
       "<table border=\"1\" class=\"dataframe\">\n",
       "  <thead>\n",
       "    <tr style=\"text-align: right;\">\n",
       "      <th></th>\n",
       "      <th>0</th>\n",
       "      <th>1</th>\n",
       "      <th>2</th>\n",
       "      <th>3</th>\n",
       "      <th>4</th>\n",
       "      <th>5</th>\n",
       "      <th>6</th>\n",
       "      <th>7</th>\n",
       "      <th>8</th>\n",
       "      <th>9</th>\n",
       "      <th>10</th>\n",
       "      <th>11</th>\n",
       "      <th>12</th>\n",
       "      <th>13</th>\n",
       "    </tr>\n",
       "  </thead>\n",
       "  <tbody>\n",
       "    <tr>\n",
       "      <th>0</th>\n",
       "      <td>1</td>\n",
       "      <td>14.23</td>\n",
       "      <td>1.71</td>\n",
       "      <td>2.43</td>\n",
       "      <td>15.6</td>\n",
       "      <td>127</td>\n",
       "      <td>2.80</td>\n",
       "      <td>3.06</td>\n",
       "      <td>0.28</td>\n",
       "      <td>2.29</td>\n",
       "      <td>5.64</td>\n",
       "      <td>1.04</td>\n",
       "      <td>3.92</td>\n",
       "      <td>1065</td>\n",
       "    </tr>\n",
       "    <tr>\n",
       "      <th>1</th>\n",
       "      <td>1</td>\n",
       "      <td>13.20</td>\n",
       "      <td>1.78</td>\n",
       "      <td>2.14</td>\n",
       "      <td>11.2</td>\n",
       "      <td>100</td>\n",
       "      <td>2.65</td>\n",
       "      <td>2.76</td>\n",
       "      <td>0.26</td>\n",
       "      <td>1.28</td>\n",
       "      <td>4.38</td>\n",
       "      <td>1.05</td>\n",
       "      <td>3.40</td>\n",
       "      <td>1050</td>\n",
       "    </tr>\n",
       "    <tr>\n",
       "      <th>2</th>\n",
       "      <td>1</td>\n",
       "      <td>13.16</td>\n",
       "      <td>2.36</td>\n",
       "      <td>2.67</td>\n",
       "      <td>18.6</td>\n",
       "      <td>101</td>\n",
       "      <td>2.80</td>\n",
       "      <td>3.24</td>\n",
       "      <td>0.30</td>\n",
       "      <td>2.81</td>\n",
       "      <td>5.68</td>\n",
       "      <td>1.03</td>\n",
       "      <td>3.17</td>\n",
       "      <td>1185</td>\n",
       "    </tr>\n",
       "    <tr>\n",
       "      <th>3</th>\n",
       "      <td>1</td>\n",
       "      <td>14.37</td>\n",
       "      <td>1.95</td>\n",
       "      <td>2.50</td>\n",
       "      <td>16.8</td>\n",
       "      <td>113</td>\n",
       "      <td>3.85</td>\n",
       "      <td>3.49</td>\n",
       "      <td>0.24</td>\n",
       "      <td>2.18</td>\n",
       "      <td>7.80</td>\n",
       "      <td>0.86</td>\n",
       "      <td>3.45</td>\n",
       "      <td>1480</td>\n",
       "    </tr>\n",
       "    <tr>\n",
       "      <th>4</th>\n",
       "      <td>1</td>\n",
       "      <td>13.24</td>\n",
       "      <td>2.59</td>\n",
       "      <td>2.87</td>\n",
       "      <td>21.0</td>\n",
       "      <td>118</td>\n",
       "      <td>2.80</td>\n",
       "      <td>2.69</td>\n",
       "      <td>0.39</td>\n",
       "      <td>1.82</td>\n",
       "      <td>4.32</td>\n",
       "      <td>1.04</td>\n",
       "      <td>2.93</td>\n",
       "      <td>735</td>\n",
       "    </tr>\n",
       "  </tbody>\n",
       "</table>\n",
       "</div>"
      ],
      "text/plain": [
       "   0      1     2     3     4    5     6     7     8     9     10    11    12  \\\n",
       "0   1  14.23  1.71  2.43  15.6  127  2.80  3.06  0.28  2.29  5.64  1.04  3.92   \n",
       "1   1  13.20  1.78  2.14  11.2  100  2.65  2.76  0.26  1.28  4.38  1.05  3.40   \n",
       "2   1  13.16  2.36  2.67  18.6  101  2.80  3.24  0.30  2.81  5.68  1.03  3.17   \n",
       "3   1  14.37  1.95  2.50  16.8  113  3.85  3.49  0.24  2.18  7.80  0.86  3.45   \n",
       "4   1  13.24  2.59  2.87  21.0  118  2.80  2.69  0.39  1.82  4.32  1.04  2.93   \n",
       "\n",
       "     13  \n",
       "0  1065  \n",
       "1  1050  \n",
       "2  1185  \n",
       "3  1480  \n",
       "4   735  "
      ]
     },
     "metadata": {},
     "output_type": "display_data"
    },
    {
     "data": {
      "text/html": [
       "<div>\n",
       "<style scoped>\n",
       "    .dataframe tbody tr th:only-of-type {\n",
       "        vertical-align: middle;\n",
       "    }\n",
       "\n",
       "    .dataframe tbody tr th {\n",
       "        vertical-align: top;\n",
       "    }\n",
       "\n",
       "    .dataframe thead th {\n",
       "        text-align: right;\n",
       "    }\n",
       "</style>\n",
       "<table border=\"1\" class=\"dataframe\">\n",
       "  <thead>\n",
       "    <tr style=\"text-align: right;\">\n",
       "      <th></th>\n",
       "      <th>Class</th>\n",
       "      <th>Alcohol</th>\n",
       "      <th>Malic acid</th>\n",
       "      <th>Ash</th>\n",
       "      <th>Alcalinity of ash</th>\n",
       "      <th>Magnesium</th>\n",
       "      <th>Total phenols</th>\n",
       "      <th>Flavanoids</th>\n",
       "      <th>Nonflavanoid phenols</th>\n",
       "      <th>Proanthocyanins</th>\n",
       "      <th>Color intensity</th>\n",
       "      <th>Hue</th>\n",
       "      <th>OD280/OD315 of diluted wines</th>\n",
       "      <th>Proline</th>\n",
       "    </tr>\n",
       "  </thead>\n",
       "  <tbody>\n",
       "    <tr>\n",
       "      <th>0</th>\n",
       "      <td>1</td>\n",
       "      <td>14.23</td>\n",
       "      <td>1.71</td>\n",
       "      <td>2.43</td>\n",
       "      <td>15.6</td>\n",
       "      <td>127</td>\n",
       "      <td>2.80</td>\n",
       "      <td>3.06</td>\n",
       "      <td>0.28</td>\n",
       "      <td>2.29</td>\n",
       "      <td>5.64</td>\n",
       "      <td>1.04</td>\n",
       "      <td>3.92</td>\n",
       "      <td>1065</td>\n",
       "    </tr>\n",
       "    <tr>\n",
       "      <th>1</th>\n",
       "      <td>1</td>\n",
       "      <td>13.20</td>\n",
       "      <td>1.78</td>\n",
       "      <td>2.14</td>\n",
       "      <td>11.2</td>\n",
       "      <td>100</td>\n",
       "      <td>2.65</td>\n",
       "      <td>2.76</td>\n",
       "      <td>0.26</td>\n",
       "      <td>1.28</td>\n",
       "      <td>4.38</td>\n",
       "      <td>1.05</td>\n",
       "      <td>3.40</td>\n",
       "      <td>1050</td>\n",
       "    </tr>\n",
       "    <tr>\n",
       "      <th>2</th>\n",
       "      <td>1</td>\n",
       "      <td>13.16</td>\n",
       "      <td>2.36</td>\n",
       "      <td>2.67</td>\n",
       "      <td>18.6</td>\n",
       "      <td>101</td>\n",
       "      <td>2.80</td>\n",
       "      <td>3.24</td>\n",
       "      <td>0.30</td>\n",
       "      <td>2.81</td>\n",
       "      <td>5.68</td>\n",
       "      <td>1.03</td>\n",
       "      <td>3.17</td>\n",
       "      <td>1185</td>\n",
       "    </tr>\n",
       "    <tr>\n",
       "      <th>3</th>\n",
       "      <td>1</td>\n",
       "      <td>14.37</td>\n",
       "      <td>1.95</td>\n",
       "      <td>2.50</td>\n",
       "      <td>16.8</td>\n",
       "      <td>113</td>\n",
       "      <td>3.85</td>\n",
       "      <td>3.49</td>\n",
       "      <td>0.24</td>\n",
       "      <td>2.18</td>\n",
       "      <td>7.80</td>\n",
       "      <td>0.86</td>\n",
       "      <td>3.45</td>\n",
       "      <td>1480</td>\n",
       "    </tr>\n",
       "    <tr>\n",
       "      <th>4</th>\n",
       "      <td>1</td>\n",
       "      <td>13.24</td>\n",
       "      <td>2.59</td>\n",
       "      <td>2.87</td>\n",
       "      <td>21.0</td>\n",
       "      <td>118</td>\n",
       "      <td>2.80</td>\n",
       "      <td>2.69</td>\n",
       "      <td>0.39</td>\n",
       "      <td>1.82</td>\n",
       "      <td>4.32</td>\n",
       "      <td>1.04</td>\n",
       "      <td>2.93</td>\n",
       "      <td>735</td>\n",
       "    </tr>\n",
       "  </tbody>\n",
       "</table>\n",
       "</div>"
      ],
      "text/plain": [
       "   Class  Alcohol  Malic acid   Ash  Alcalinity of ash  Magnesium  \\\n",
       "0      1    14.23        1.71  2.43               15.6        127   \n",
       "1      1    13.20        1.78  2.14               11.2        100   \n",
       "2      1    13.16        2.36  2.67               18.6        101   \n",
       "3      1    14.37        1.95  2.50               16.8        113   \n",
       "4      1    13.24        2.59  2.87               21.0        118   \n",
       "\n",
       "   Total phenols  Flavanoids  Nonflavanoid phenols  Proanthocyanins  \\\n",
       "0           2.80        3.06                  0.28             2.29   \n",
       "1           2.65        2.76                  0.26             1.28   \n",
       "2           2.80        3.24                  0.30             2.81   \n",
       "3           3.85        3.49                  0.24             2.18   \n",
       "4           2.80        2.69                  0.39             1.82   \n",
       "\n",
       "   Color intensity   Hue  OD280/OD315 of diluted wines  Proline  \n",
       "0             5.64  1.04                          3.92     1065  \n",
       "1             4.38  1.05                          3.40     1050  \n",
       "2             5.68  1.03                          3.17     1185  \n",
       "3             7.80  0.86                          3.45     1480  \n",
       "4             4.32  1.04                          2.93      735  "
      ]
     },
     "metadata": {},
     "output_type": "display_data"
    }
   ],
   "source": [
    "import numpy as np\n",
    "import pandas as pd\n",
    "import matplotlib.pyplot as plt\n",
    "from sklearn.model_selection import train_test_split\n",
    "data = pd.read_csv(\"wine.data\", header = None)\n",
    "display(data.head())\n",
    "\n",
    "data.columns = [\"Class\", \"Alcohol\", \"Malic acid\", \"Ash\", \"Alcalinity of ash\", \"Magnesium\", \"Total phenols\", \"Flavanoids\", \"Nonflavanoid phenols\",\"Proanthocyanins\", \"Color intensity\",\"Hue\", \"OD280/OD315 of diluted wines\", \"Proline\"]\n",
    "display(data.head())\n",
    "X = data.iloc[:, 1:]\n",
    "Y = data.iloc[:, 0]\n",
    "X_train, X_test, Y_train, Y_test = train_test_split(X, Y, random_state=42, test_size=0.2)\n"
   ]
  },
  {
   "cell_type": "markdown",
   "id": "957dd326",
   "metadata": {},
   "source": [
    "### Dokonaj normalizacji danych. Skomentuj po co jest ten krok i jak może on wpływać na działania algorytmów z kolejnego punktu."
   ]
  },
  {
   "cell_type": "code",
   "execution_count": 19,
   "id": "b11b0041",
   "metadata": {},
   "outputs": [
    {
     "data": {
      "text/plain": [
       "array([[ 1.66529275, -0.60840587,  1.21896194, ..., -1.65632857,\n",
       "        -0.87940904, -0.24860607],\n",
       "       [-0.54952506,  2.7515415 ,  1.00331502, ..., -0.58463272,\n",
       "        -1.25462095, -0.72992237],\n",
       "       [-0.74531007, -1.14354109, -0.93750727, ...,  0.35845962,\n",
       "         0.2462267 , -0.24860607],\n",
       "       ...,\n",
       "       [ 1.714239  , -0.44172441,  0.06884503, ...,  1.04434496,\n",
       "         0.56585166,  2.69572196],\n",
       "       [-0.35374006, -0.7399965 , -0.36244882, ...,  0.01551695,\n",
       "        -0.74044166, -0.79631083],\n",
       "       [-0.78201975,  0.06709269,  0.35637426, ..., -0.67036839,\n",
       "         1.09392769, -0.98551793]], shape=(142, 13))"
      ]
     },
     "metadata": {},
     "output_type": "display_data"
    }
   ],
   "source": [
    "from sklearn.preprocessing import StandardScaler\n",
    "\n",
    "scaler = StandardScaler() # przeksztalca dane tak zeby kazda kolumna miala mean 0 i std 1\n",
    "X_train_scaled = scaler.fit_transform(X_train)\n",
    "X_test_scaled = scaler.transform(X_test)\n",
    "\n",
    "display(X_train_scaled)"
   ]
  },
  {
   "cell_type": "markdown",
   "id": "8462f563",
   "metadata": {},
   "source": [
    "Normalzacja danych polega na przekształceniu wartości cech (features) tak, aby miały porównywalną skalę. ( u nas np są różne skale, np Proline około 700 - 1000+; Color intensity 1 - 10) Brak normalizacji mógłby zaburzyć działanie modeli. Dzięki normalizacji model uczy się bardziej efektywnie,  a wyniki klasyfikacji są bardziej wiarygodne."
   ]
  },
  {
   "cell_type": "markdown",
   "id": "d618b6f3",
   "metadata": {},
   "source": [
    "### Wykonaj trening dla algorytmów KNeighborsClassifier oraz RandomForestClassifier (biblioteka scikit-learn)\n",
    "### Wykonaj predykcje "
   ]
  },
  {
   "cell_type": "code",
   "execution_count": 20,
   "id": "b37c883a",
   "metadata": {},
   "outputs": [
    {
     "name": "stdout",
     "output_type": "stream",
     "text": [
      "Dokładność KNN: 0.9444444444444444\n",
      "Dokładność Random Forest: 1.0\n"
     ]
    }
   ],
   "source": [
    "from sklearn.neighbors import KNeighborsClassifier\n",
    "from sklearn.ensemble import RandomForestClassifier\n",
    "from sklearn.metrics import accuracy_score\n",
    "# knn\n",
    "Knn = KNeighborsClassifier(n_neighbors= 6) # knn bierze 6 najblizszych sasiadow do podjecia decyzji\n",
    "Knn.fit(X_train_scaled, Y_train)\n",
    "Y_pred_Knn = Knn.predict(X_test_scaled)\n",
    "\n",
    "# random forest\n",
    "Rfc = RandomForestClassifier()\n",
    "Rfc.fit(X_train_scaled, Y_train)\n",
    "Y_pred_Rfc = Rfc.predict(X_test_scaled)\n",
    "\n",
    "\n",
    "print(\"Dokładność KNN:\", accuracy_score(Y_test, Y_pred_Knn))\n",
    "print(\"Dokładność Random Forest:\", accuracy_score(Y_test, Y_pred_Rfc))"
   ]
  },
  {
   "cell_type": "markdown",
   "id": "72b090fe",
   "metadata": {},
   "source": [
    "### Zapoznaj się z metrykami dostępnymi w: https://scikit-learn.org/stable/modules/model_evaluation.html#classification-metrics. Opisz o czym mówią i w jakim kontekście używamy: accuracy, precision, recall and F-measures, confusion matrix oraz napisz czym jest classification report. "
   ]
  },
  {
   "cell_type": "markdown",
   "id": "0e7225fe",
   "metadata": {},
   "source": [
    "### Accuracy: \n",
    "\n",
    "Mierzy ogólną skuteczność modelu — jaki procent wszystkich przykładów został poprawnie sklasyfikowany.\n",
    "Używamy go, gdy klasy są zrównoważone i pomyłki mają podobną wagę.\n",
    "\n",
    "### Precision:\n",
    "\n",
    "Sprawdza, spośród wszystkich przypadków zaklasyfikowanych do danej klasy, ile było poprawnych.\n",
    "Używamy, gdy ważne jest ograniczenie liczby fałszywych alarmów.\n",
    "\n",
    "\n",
    "### Recall and F-measures:\n",
    "\n",
    "Recall - sprawdza ile rzeczywistych przykładów danej klasy model poprawnie wykrył\n",
    "Recall = TP / (TP + FN)\n",
    "TP: dobrze rozpoznane przypadki danej klasy\n",
    "FN: przypadki danej klasy, których model nie rozpoznał\n",
    "\n",
    "F-measure - Łączy precision i recall w jedną liczbę – to ich średnia harmoniczna\n",
    "F1-score jest niski, jeśli choć jedna z tych metryk jest niska\n",
    "F1 = 2 * (Precision * Recall) / (Precision + Recall)\n",
    "\n",
    "\n",
    "### Confusion matrix:\n",
    "\n",
    "Jest to tablica pokazująca, ile przykładów każdej klasy zostało poprawnie/niepoprawnie sklasyfikowanych.\n",
    "Zawiera:\n",
    "TP: trafione pozytywne\n",
    "TN: trafione negatywne\n",
    "FP: fałszywe alarmy\n",
    "FN: przeoczenia\n",
    "Używamy do dokładnej analizy, które klasy model najczęściej myli.\n",
    "\n",
    "### Classification report:\n",
    "\n",
    "Jest to wygodne podsumowanie zawierające: precision, recall, F1-score i support (liczbę próbek) dla każdej klasy.\n",
    "Używamy do porównania jakości klasyfikacji między klasami.\n"
   ]
  },
  {
   "cell_type": "markdown",
   "id": "c88a9e78",
   "metadata": {},
   "source": [
    "### W nawiązaniu do metryk omawianych na wykładzie i tych analizowanych w punkcie 6. dokonaj analizy predykcji poszczególnych modeli. "
   ]
  },
  {
   "cell_type": "code",
   "execution_count": 21,
   "id": "d9416fea",
   "metadata": {},
   "outputs": [
    {
     "name": "stdout",
     "output_type": "stream",
     "text": [
      "KNN\n",
      "Confusion Matrix:\n"
     ]
    },
    {
     "data": {
      "text/plain": [
       "array([[14,  0,  0],\n",
       "       [ 1, 12,  1],\n",
       "       [ 0,  0,  8]])"
      ]
     },
     "metadata": {},
     "output_type": "display_data"
    },
    {
     "name": "stdout",
     "output_type": "stream",
     "text": [
      "\n",
      "Classification Report:\n"
     ]
    },
    {
     "data": {
      "text/plain": [
       "'              precision    recall  f1-score   support\\n\\n           1       0.93      1.00      0.97        14\\n           2       1.00      0.86      0.92        14\\n           3       0.89      1.00      0.94         8\\n\\n    accuracy                           0.94        36\\n   macro avg       0.94      0.95      0.94        36\\nweighted avg       0.95      0.94      0.94        36\\n'"
      ]
     },
     "metadata": {},
     "output_type": "display_data"
    },
    {
     "name": "stdout",
     "output_type": "stream",
     "text": [
      "\n",
      " RandomForest\n",
      "Confusion Matrix:\n"
     ]
    },
    {
     "data": {
      "text/plain": [
       "array([[14,  0,  0],\n",
       "       [ 0, 14,  0],\n",
       "       [ 0,  0,  8]])"
      ]
     },
     "metadata": {},
     "output_type": "display_data"
    },
    {
     "name": "stdout",
     "output_type": "stream",
     "text": [
      "\n",
      "Classification Report:\n"
     ]
    },
    {
     "data": {
      "text/plain": [
       "'              precision    recall  f1-score   support\\n\\n           1       1.00      1.00      1.00        14\\n           2       1.00      1.00      1.00        14\\n           3       1.00      1.00      1.00         8\\n\\n    accuracy                           1.00        36\\n   macro avg       1.00      1.00      1.00        36\\nweighted avg       1.00      1.00      1.00        36\\n'"
      ]
     },
     "metadata": {},
     "output_type": "display_data"
    },
    {
     "data": {
      "image/png": "[encoded data removed]",
      "text/plain": [
       "<Figure size 1200x500 with 4 Axes>"
      ]
     },
     "metadata": {},
     "output_type": "display_data"
    }
   ],
   "source": [
    "from sklearn.metrics import classification_report, confusion_matrix, ConfusionMatrixDisplay\n",
    "\n",
    "# knn\n",
    "print(\"KNN\")\n",
    "print(\"Confusion Matrix:\")\n",
    "display(confusion_matrix(Y_test, Y_pred_Knn))\n",
    "print(\"\\nClassification Report:\")\n",
    "display(classification_report(Y_test, Y_pred_Knn))\n",
    "\n",
    "# random forest\n",
    "print(\"\\n RandomForest\")\n",
    "print(\"Confusion Matrix:\")\n",
    "display(confusion_matrix(Y_test, Y_pred_Rfc))\n",
    "print(\"\\nClassification Report:\")\n",
    "display(classification_report(Y_test, Y_pred_Rfc))\n",
    "\n",
    "\n",
    "cm1 = confusion_matrix(Y_test, Y_pred_Knn, labels=Knn.classes_)\n",
    "cm2 = confusion_matrix(Y_test, Y_pred_Rfc, labels=Rfc.classes_)\n",
    "\n",
    "disp1 = ConfusionMatrixDisplay(confusion_matrix=cm1, display_labels=Knn.classes_)\n",
    "disp2 = ConfusionMatrixDisplay(confusion_matrix=cm2, display_labels=Rfc.classes_)\n",
    "\n",
    "\n",
    "fig, axs = plt.subplots(1, 2, figsize=(12, 5))\n",
    "disp1.plot(ax=axs[0])\n",
    "disp2.plot(ax=axs[1])\n",
    "axs[0].set_title(\"KNN\")\n",
    "axs[1].set_title(\"Random Forest\")\n",
    "plt.tight_layout()\n",
    "plt.show()"
   ]
  },
  {
   "cell_type": "markdown",
   "id": "2475cc18",
   "metadata": {},
   "source": [
    "### Interpretacja i wnioski\n",
    "\n",
    "-  Random Forest uzyskał 100% skuteczność – wszystkie próbki zostały poprawnie sklasyfikowane, co świadczy o bardzo dobrej zdolności modelu do rozróżniania klas.\n",
    "-  KNN osiągnął wysoką skuteczność (94%), ale popełnił błędy przy rozróżnianiu klasy 2 – prawdopodobnie z powodu podobieństw cech z klasami 1 i 3.\n",
    "-  Random Forest lepiej radzi sobie w sytuacjach, gdzie granice między klasami nie są liniowe lub dane są bardziej złożone – dzięki losowości i agregacji wyników wielu drzew.\n",
    "-  KNN jest wrażliwy na skalę i rozkład danych – nawet po normalizacji może mieć trudność w klasyfikacji przy mniejszych różnicach między klasami.\n",
    "-  Random Forest wykazuje większą odporność na błędy i szumy w danych.\n",
    "-  Dzięki wizualizacjom łatwo zobaczyć, że Random Forest jest dokładniejszy i bardziej niezawodny niż KNN w tym przypadku.\n",
    "\n"
   ]
  }
 ],
 "metadata": {
  "kernelspec": {
   "display_name": "DataScience",
   "language": "python",
   "name": "python3"
  },
  "language_info": {
   "codemirror_mode": {
    "name": "ipython",
    "version": 3
   },
   "file_extension": ".py",
   "mimetype": "text/x-python",
   "name": "python",
   "nbconvert_exporter": "python",
   "pygments_lexer": "ipython3",
   "version": "3.13.2"
  }
 },
 "nbformat": 4,
 "nbformat_minor": 5
}
